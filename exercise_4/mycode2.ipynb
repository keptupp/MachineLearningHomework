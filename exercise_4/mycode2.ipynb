{
 "cells": [
  {
   "cell_type": "markdown",
   "metadata": {},
   "source": [
    "# 神经网络的多分类问题"
   ]
  },
  {
   "cell_type": "code",
   "execution_count": 50,
   "metadata": {},
   "outputs": [],
   "source": [
    "import numpy\n",
    "from scipy.io import loadmat#读取mat文件\n",
    "import matplotlib.pyplot as plt"
   ]
  },
  {
   "cell_type": "markdown",
   "metadata": {},
   "source": [
    "这里的分类还20*20像素的手写数字  \n",
    "前置神经网络感觉就像是多重逻辑回归的组合体  \n",
    "输入是400个特征加一个常量，输入到隐藏层的25个神经元（也就是25个逻辑回归）  \n",
    "到隐藏层后是25个特征加一个常量，输入到10个输出层（也就是10个逻辑回归）"
   ]
  },
  {
   "cell_type": "markdown",
   "metadata": {},
   "source": [
    "### sigmoud函数"
   ]
  },
  {
   "cell_type": "code",
   "execution_count": 51,
   "metadata": {},
   "outputs": [],
   "source": [
    "\n",
    "def sigmoid(z):\n",
    "    return 1/(1+numpy.exp(-z))"
   ]
  },
  {
   "cell_type": "markdown",
   "metadata": {},
   "source": [
    "### 对sigmoid函数进行求导\n",
    "然后开始反向传播\n",
    "反向传播前先写好基础的sigmoid函数的梯度下降公式，简单求导可知"
   ]
  },
  {
   "cell_type": "code",
   "execution_count": 52,
   "metadata": {},
   "outputs": [],
   "source": [
    "def Dsigmoid(z):\n",
    "    return sigmoid(z)*(1-sigmoid(z))"
   ]
  },
  {
   "cell_type": "markdown",
   "metadata": {},
   "source": [
    "### 获取需要的数据\n",
    "获取手写数字矩阵、对标签进行onehot编码、随机生成theta"
   ]
  },
  {
   "cell_type": "code",
   "execution_count": 53,
   "metadata": {},
   "outputs": [],
   "source": [
    "def getData():\n",
    "    data=loadmat(\"ex4data1.mat\")\n",
    "    x=numpy.insert(data['X'],0,numpy.ones((5000)),axis=1)\n",
    "    y=numpy.array(data['y'])\n",
    "    ynum=numpy.array(data['y'])\n",
    "    y=numpy.zeros((x.shape[0],10))\n",
    "    for i in range(len(ynum)):\n",
    "        y[i][ynum[i]-1]=1\n",
    "    theta1=(numpy.random.random((25,x.shape[1]))-0.5)*0.25\n",
    "    theta2=(numpy.random.random((10,26))-0.5)*0.25\n",
    "    # theta1=numpy.array(numpy.load('theta1.npy'))\n",
    "    # theta2=numpy.array(numpy.load('theta2.npy'))\n",
    "    return x,y,theta1,theta2"
   ]
  },
  {
   "cell_type": "markdown",
   "metadata": {},
   "source": [
    "### 向前传播"
   ]
  },
  {
   "cell_type": "code",
   "execution_count": 54,
   "metadata": {},
   "outputs": [],
   "source": [
    "def propagate_forward(x,theta1,theta2):\n",
    "    z1=x@theta1.T\n",
    "    h1=sigmoid(z1)\n",
    "    h1=numpy.insert(h1,0,numpy.ones((5000)),axis=1)\n",
    "    z2=h1@theta2.T\n",
    "    h2=sigmoid(z2)\n",
    "    return h2,h1"
   ]
  },
  {
   "cell_type": "markdown",
   "metadata": {},
   "source": [
    "### 代价函数\n",
    "这里的代价函数看公式是把所有的逻回归的代价求和  \n",
    "单个逻辑回归，知道计算出来的结果和实际结果  \n",
    "但是现在神经网络加了一个隐藏层  \n",
    "（可以知道的是输入和输出以及正确结果，但是隐藏层的正确结果不知道）  \n",
    "看答案的代价函数，只考虑输入与输出，没有计算隐藏层怎么样  \n",
    "<img style=\"float: left;\" src=\"nn_regcost.png\">"
   ]
  },
  {
   "cell_type": "code",
   "execution_count": 55,
   "metadata": {},
   "outputs": [],
   "source": [
    "def cost(y,h2,theta1,theta2,L):\n",
    "    m=y.shape[0]\n",
    "    price=(-y*numpy.log(h2)-(1-y)*numpy.log(1-h2)).sum()/m\n",
    "    regularization=(numpy.power(theta1,2).sum()+numpy.power(theta2,2).sum())*L/(2*m)\n",
    "    return price+regularization"
   ]
  },
  {
   "cell_type": "markdown",
   "metadata": {},
   "source": [
    "### 反向传播\n",
    "理解反向传播，见笔记新增的连接与图片  \n",
    "代价函数求得的代价是最终结果的误差  \n",
    "这个误差要不断的向后去寻找误差源，简单来说，传播过程中权重比较大的值就说明他贡献的误差较大  \n",
    "以此来不断的向后去更新他们的权重  \n",
    "最终的目的就是求总体对改权重的偏导(通过链式求导法则)  "
   ]
  },
  {
   "cell_type": "code",
   "execution_count": 56,
   "metadata": {},
   "outputs": [],
   "source": [
    "def back_propagation(theta1,theta2,x,errorValue,h1,dh1):\n",
    "    decline2=numpy.zeros((10,26))\n",
    "    decline1=numpy.zeros((25,401))\n",
    "    for i in range(5000):\n",
    "        decline2=decline2+errorValue[i].reshape(-1,1) @ h1[i].reshape(-1,1).T\n",
    "\n",
    "        a=errorValue[i].reshape(-1,1).T@theta2\n",
    "        b=dh1[i].reshape(-1,1)@x[i].reshape(-1,1).T\n",
    "\n",
    "        decline1=decline1+a[:,1:].T*b\n",
    "    return decline1,decline2"
   ]
  },
  {
   "cell_type": "markdown",
   "metadata": {},
   "source": [
    "### 神经网络主函数\n",
    "设置下降率，迭代次数，更新theta"
   ]
  },
  {
   "cell_type": "code",
   "execution_count": 57,
   "metadata": {},
   "outputs": [],
   "source": [
    "def neural_networks(epoch,speed):\n",
    "    x,y,theta1,theta2=getData()\n",
    "    costs=[]\n",
    "    for i in range(epoch):\n",
    "        h2,h1=propagate_forward(x,theta1,theta2)\n",
    "        j=cost(y,h2,theta1,theta2,1)\n",
    "        errorValue=h2-y\n",
    "        dh1=Dsigmoid(x@theta1.T)\n",
    "        decline1,decline2=back_propagation(theta1,theta2,x,errorValue,h1,dh1)\n",
    "        theta1=theta1-speed*decline1\n",
    "        theta2=theta2-speed*decline2\n",
    "        costs.append(j)\n",
    "    plt.plot(costs)\n",
    "    numpy.save('theta1.npy',theta1)\n",
    "    numpy.save(\"theta2.npy\",theta2)\n",
    "    print(\"最小代价\",j)\n",
    "    return theta1,theta2"
   ]
  },
  {
   "cell_type": "markdown",
   "metadata": {},
   "source": [
    "### test函数，求训练后的神经网络正确率"
   ]
  },
  {
   "cell_type": "code",
   "execution_count": 58,
   "metadata": {},
   "outputs": [],
   "source": [
    "def test(theta1,theta2):\n",
    "    x,y,_,_=getData()\n",
    "    # theta1=numpy.array(numpy.load(\"./theta12.npy\"))\n",
    "    # theta2=numpy.array(numpy.load(\"./theta22.npy\"))\n",
    "    h2,h1=propagate_forward(x,theta1,theta2)\n",
    "    h2[h2>0.5]=1\n",
    "    h2[h2<=0.5]=0\n",
    "    rigth=0\n",
    "    for i in range(5000):\n",
    "        if (h2[i,:]==y[i,:]).sum()==10:\n",
    "            rigth+=1\n",
    "    print(\"正确个数：\",rigth,\"，正确率：\",rigth/5000)"
   ]
  },
  {
   "cell_type": "markdown",
   "metadata": {},
   "source": [
    "### 开始训练，迭代次数500，下降率0.001"
   ]
  },
  {
   "cell_type": "code",
   "execution_count": 59,
   "metadata": {},
   "outputs": [
    {
     "name": "stdout",
     "output_type": "stream",
     "text": [
      "最小代价 1.0807738086203025\n",
      "正确个数： 4168 ，正确率： 0.8336\n"
     ]
    },
    {
     "data": {
      "image/png": "[encoded data removed]",
      "text/plain": [
       "<Figure size 640x480 with 1 Axes>"
      ]
     },
     "metadata": {},
     "output_type": "display_data"
    }
   ],
   "source": [
    "theta1,theta2=neural_networks(500,0.001)\n",
    "test(theta1,theta2)"
   ]
  }
 ],
 "metadata": {
  "kernelspec": {
   "display_name": "Python 3.10.4 64-bit",
   "language": "python",
   "name": "python3"
  },
  "language_info": {
   "codemirror_mode": {
    "name": "ipython",
    "version": 3
   },
   "file_extension": ".py",
   "mimetype": "text/x-python",
   "name": "python",
   "nbconvert_exporter": "python",
   "pygments_lexer": "ipython3",
   "version": "3.10.4"
  },
  "orig_nbformat": 4,
  "vscode": {
   "interpreter": {
    "hash": "08f6edec437538b5993be24a8d19dd1bd66f0a7ae79d727201cebd80cd580c21"
   }
  }
 },
 "nbformat": 4,
 "nbformat_minor": 2
}
