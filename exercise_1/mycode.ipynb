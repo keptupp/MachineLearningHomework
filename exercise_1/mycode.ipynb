{
 "cells": [
  {
   "cell_type": "markdown",
   "metadata": {},
   "source": [
    "## 梯度下降"
   ]
  },
  {
   "cell_type": "markdown",
   "metadata": {},
   "source": [
    "### 一个变量的线性回归"
   ]
  },
  {
   "cell_type": "markdown",
   "metadata": {},
   "source": [
    "导入库\n",
    "numpy(矩阵计算的库)\n",
    "pandas(数据分析的库，一般和numpy结合使用)\n",
    "matplotlib(绘图的库)"
   ]
  },
  {
   "cell_type": "code",
   "execution_count": 602,
   "metadata": {},
   "outputs": [],
   "source": [
    "import pandas\n",
    "import numpy\n",
    "import matplotlib.pyplot as plt"
   ]
  },
  {
   "cell_type": "markdown",
   "metadata": {},
   "source": [
    "读取数据\n",
    "注意，有些数据第一行可能是标题，pandas默认第一行为头，由于本文件没有头\n",
    "所以需要在后面加上header=None，如果想要定义一个头，则在需要添加names=[]的一个数组"
   ]
  },
  {
   "cell_type": "markdown",
   "metadata": {},
   "source": [
    "先将xy的数据在坐标上画出来，观察其特征（实际上已经知道了是一个线性关系）\n",
    "scatter为散点图的意思，figsize为图像大小"
   ]
  },
  {
   "cell_type": "markdown",
   "metadata": {},
   "source": [
    "先初始化函数，Y=theta1*X+theta0\n",
    "矩阵形式就是theta=[theta0,theeta1]\n",
    "theta就初始化为theta=[0,0]"
   ]
  },
  {
   "cell_type": "code",
   "execution_count": 603,
   "metadata": {},
   "outputs": [],
   "source": [
    "def initData(dataName):\n",
    "    data=pandas.read_csv(dataName,header=None).values\n",
    "    data=numpy.array(data)\n",
    "\n",
    "    #data.head()\n",
    "    #data.describe()\n",
    "    #data.plot(kind='scatter', x='x', y='y', figsize=(8,6))\n",
    "    #plt.show()\n",
    "\n",
    "    theta=numpy.ones(data.shape[1])\n",
    "    #theta=[80000,130,-80000]#测试第二个样本数据，把结果直接放在最优得附件，看看下降的过去不，结果发现还是很难到达\n",
    "    print(theta)\n",
    "    return data,theta"
   ]
  },
  {
   "cell_type": "markdown",
   "metadata": {},
   "source": [
    "有了theta我们就可以计算当前代价了\n",
    "\n",
    "定义代价函数\n",
    "代价的计算方程为\n",
    "$$J\\left( \\theta  \\right)=\\frac{1}{2m}\\sum\\limits_{i=1}^{m}{{{\\left( {{h}_{\\theta }}\\left( {{x}^{(i)}} \\right)-{{y}^{(i)}} \\right)}^{2}}}$$\n",
    "\n",
    "\n",
    "这里的h(x)可以用矩阵成发表示，theta*x==>[0,0]*[1,x]T来表示"
   ]
  },
  {
   "cell_type": "code",
   "execution_count": 604,
   "metadata": {},
   "outputs": [],
   "source": [
    "def computeCost(data,theta):\n",
    "    cols=data.shape[1]\n",
    "    \n",
    "    x=data[:,0:cols-1]\n",
    "    y=data[:,cols-1]\n",
    "\n",
    "\n",
    "    \n",
    "    \n",
    "    \n",
    "    ycom=numpy.matmul(x,theta)#矩阵内积得到计算出来的ycom\n",
    "\n",
    "    ycom=ycom-y\n",
    "    \n",
    "    cost=numpy.matmul(ycom,ycom)/(2*data.shape[0])#内积，也就是平方求和后除2m\n",
    "\n",
    "    return cost,ycom#保留ycom，后续梯度下降要用到"
   ]
  },
  {
   "cell_type": "markdown",
   "metadata": {},
   "source": [
    "代价函数计算完后，就可以考虑如何最小化代价了，按照梯度下降的方法，对每个代价函数的每一个theta求导，也就是梯度下降\n",
    "$${{\\theta }_{j}}:={{\\theta }_{j}}-\\alpha \\frac{\\partial }{\\partial {{\\theta }_{j}}}J\\left( \\theta  \\right)$$\n",
    "这里运用求导的方法可以算出导数，然后就可以开始梯度下降"
   ]
  },
  {
   "cell_type": "markdown",
   "metadata": {},
   "source": [
    "这里的gradientDescent()方法，先计算一次代价，然后利用得到得cost画图看下降过程，ycom来用于梯度下降"
   ]
  },
  {
   "cell_type": "code",
   "execution_count": 605,
   "metadata": {},
   "outputs": [],
   "source": [
    "from traitlets import Undefined\n",
    "\n",
    "\n",
    "def gradientDescent(theta,data,alpha,time):\n",
    "    \n",
    "    #插入常数1，便于矩阵计算\n",
    "    #data.insert(0,'ones',1)\n",
    "\n",
    "    ones=numpy.ones(data.shape[0])\n",
    "\n",
    "    data=numpy.c_[ones,data]\n",
    "\n",
    "\n",
    "\n",
    "\n",
    "    #列数\n",
    "    cols=data.shape[1]\n",
    "    #行数,样本数量\n",
    "    row=data.shape[0]\n",
    "\n",
    "    costs=[]\n",
    "    for i in range(time):#下降100次\n",
    "        #计算当前代价\n",
    "        cost,ycom=computeCost(data,theta)\n",
    "        costs.append(cost)\n",
    "        \n",
    "        x=data[:,0:cols-1]\n",
    "        x=numpy.transpose(x)#转置一下\n",
    "\n",
    "        sum=numpy.matmul(x,ycom)/row#sum除以m(就是样本量row),这个就是梯度下降的微分部分\n",
    "        \n",
    "        theta=theta-alpha*numpy.transpose(sum)\n",
    "    return theta,costs\n"
   ]
  },
  {
   "cell_type": "markdown",
   "metadata": {},
   "source": [
    "主运行代码如下\n",
    "调用gradientDescent()方法开始梯度下降，返回theta也就是方程参数，costs每次下降后的代价"
   ]
  },
  {
   "cell_type": "code",
   "execution_count": 606,
   "metadata": {},
   "outputs": [
    {
     "name": "stdout",
     "output_type": "stream",
     "text": [
      "[1. 1.]\n",
      "[-3.89578088  1.19303364]\n"
     ]
    },
    {
     "data": {
      "image/png": "[encoded data removed]",
      "text/plain": [
       "<Figure size 432x288 with 1 Axes>"
      ]
     },
     "metadata": {
      "needs_background": "light"
     },
     "output_type": "display_data"
    }
   ],
   "source": [
    "def main01():\n",
    "    data,theta=initData('ex1data1.txt')#读取数据\n",
    "    theta,costs=gradientDescent(theta,data,0.02,10000)\n",
    "    print(theta)\n",
    "\n",
    "    # #画costs图观察下降趋势\n",
    "    # plt.figure(figsize=(8, 6), dpi=100)\n",
    "    plt.plot(costs)\n",
    "    plt.show()\n",
    "\n",
    "    # #画样本散点和拟合后的方程，观察拟合情况\n",
    "    # plt.figure(figsize=(8, 6), dpi=100)\n",
    "    # plt.scatter(data.x,data.y)\n",
    "    # x=numpy.arange(0,25,0.1)\n",
    "    # y=theta[1]*x+theta[0]\n",
    "    # plt.plot(x,y)\n",
    "    # plt.show()\n",
    "main01()\n"
   ]
  },
  {
   "cell_type": "markdown",
   "metadata": {},
   "source": [
    "可以的，有了一元一次方程线性回归的经验，二元一次不是问题\n",
    "## 多变量线性回归\n",
    "在开始多元前，整理一下前面的代码，把复用的整理成方法"
   ]
  },
  {
   "cell_type": "markdown",
   "metadata": {},
   "source": [
    "运行第二个二元一次回归出现了指数溢出，猜测原因是样本没有特征缩放\n",
    "果然，当我把下降比列调的很小时（0.0000001），就运行成功了\n",
    "但是和正规方程求得theta还差很多"
   ]
  },
  {
   "cell_type": "code",
   "execution_count": 607,
   "metadata": {},
   "outputs": [],
   "source": [
    "'''\n",
    "特征缩放，第一种和第二种都是\n",
    "第一个是样本减去平均值后除以方差\n",
    "第二个是样本减去平均值后除以平均值\n",
    "虽然不知道效果怎么样，但下降率确实变快了，0.01就可以了\n",
    "'''\n",
    "def featureScaling(data):\n",
    "    return (data-numpy.mean(data, axis=0))/numpy.std(data,axis=0)\n",
    "    #return (data-numpy.mean(data, axis=0))/numpy.mean(data, axis=0)"
   ]
  },
  {
   "cell_type": "code",
   "execution_count": 608,
   "metadata": {},
   "outputs": [
    {
     "name": "stdout",
     "output_type": "stream",
     "text": [
      "[1. 1. 1.]\n",
      "[-1.08265505e-16  8.84765988e-01 -5.31788197e-02]\n"
     ]
    },
    {
     "data": {
      "image/png": "[encoded data removed]",
      "text/plain": [
       "<Figure size 432x288 with 1 Axes>"
      ]
     },
     "metadata": {
      "needs_background": "light"
     },
     "output_type": "display_data"
    }
   ],
   "source": [
    "def main02():\n",
    "    data,theta=initData('ex1data2.txt')#读取数据\n",
    "    data=featureScaling(data)\n",
    "\n",
    "    theta,costs=gradientDescent(theta,data,0.111,100000)\n",
    "    print(theta)\n",
    "\n",
    "    plt.plot(costs)\n",
    "    plt.show()\n",
    "main02()"
   ]
  },
  {
   "cell_type": "markdown",
   "metadata": {},
   "source": [
    "上面的是关于一元以及多元使用梯度下降来线性回归的\n",
    "在试试正规方程来线性回归\n",
    "## 正规方程的线性回归\n",
    "笔记上说了，正规方程的时间复杂度为O(n3)，所以当特征量很多的时候推荐梯度下降\n",
    "公式如下\n",
    "$$\\theta ={{\\left( {{X}^{T}}X \\right)}^{-1}}{{X}^{T}}y$$"
   ]
  },
  {
   "cell_type": "code",
   "execution_count": 609,
   "metadata": {},
   "outputs": [
    {
     "data": {
      "text/plain": [
       "array([-2.77555756e-17,  8.84765988e-01, -5.31788197e-02])"
      ]
     },
     "execution_count": 609,
     "metadata": {},
     "output_type": "execute_result"
    }
   ],
   "source": [
    "from pyparsing import col\n",
    "\n",
    "\n",
    "def normalEquation(dataName):\n",
    "    #读取数据\n",
    "    data=pandas.read_csv(dataName,header=None).values\n",
    "    data=numpy.array(data)\n",
    "\n",
    "\n",
    "    #测试样本2归一化后与梯度下降得结果比较，theta0差距较大，梯度得到的波动较大\n",
    "    data=featureScaling(data)\n",
    "\n",
    "    #插入theta0(插入一列1)\n",
    "    data=numpy.insert(data,0,numpy.ones((data.shape[0])),axis=1)\n",
    "\n",
    "    #提取x,y\n",
    "    column=data.shape[1]\n",
    "    x=data[:,0:column-1]\n",
    "    y=data[:,column-1]\n",
    "\n",
    "    xT=numpy.transpose(x)\n",
    "    theta=numpy.matmul(numpy.matmul(numpy.linalg.inv(numpy.matmul(xT,x)),xT),y)\n",
    "    return theta\n",
    "\n",
    "normalEquation('ex1data2.txt')"
   ]
  }
 ],
 "metadata": {
  "kernelspec": {
   "display_name": "Python 3.9.12 64-bit",
   "language": "python",
   "name": "python3"
  },
  "language_info": {
   "codemirror_mode": {
    "name": "ipython",
    "version": 3
   },
   "file_extension": ".py",
   "mimetype": "text/x-python",
   "name": "python",
   "nbconvert_exporter": "python",
   "pygments_lexer": "ipython3",
   "version": "3.9.12"
  },
  "orig_nbformat": 4,
  "vscode": {
   "interpreter": {
    "hash": "1daca1ebfa99d363f49187de6dd878fa6001e85bc2f160c60bcd81d0df0caa1e"
   }
  }
 },
 "nbformat": 4,
 "nbformat_minor": 2
}
