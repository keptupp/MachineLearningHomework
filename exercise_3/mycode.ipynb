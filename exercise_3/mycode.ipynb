{
 "cells": [
  {
   "cell_type": "code",
   "execution_count": null,
   "metadata": {},
   "outputs": [],
   "source": [
    "import pandas\n",
    "import numpy\n",
    "from scipy.io import loadmat#读取mat文件"
   ]
  },
  {
   "cell_type": "markdown",
   "metadata": {},
   "source": [
    "# 多分类问题的逻辑回归\n",
    "先把数据读取出来看看是啥  \n",
    "有5000个样本，每个特征有400给，就是20*20的像素，里面是手写的数字"
   ]
  },
  {
   "cell_type": "code",
   "execution_count": null,
   "metadata": {},
   "outputs": [],
   "source": [
    "def getData(url):\n",
    "    data=loadmat(url)\n",
    "    row=data['X'].shape[0]\n",
    "    x=numpy.insert(data['X'],0,numpy.ones(row),axis=1)\n",
    "    y=numpy.array(data['y'])\n",
    "    theta=numpy.zeros((x.shape[1],1))\n",
    "    return x,y,theta\n"
   ]
  },
  {
   "cell_type": "markdown",
   "metadata": {},
   "source": [
    "然后定义sigmoid函数、代价函数和梯度下降的函数  \n",
    "sigmoid函数公式如下  \n",
    " $$\n",
    " sigmoid=\\frac{1}{1+e^{-z}}\n",
    " $$\n",
    "代价函数公式如下\n",
    "$$J\\left( \\theta  \\right)=\\frac{1}{m}\\sum\\limits_{i=1}^{m}{[-{{y}^{(i)}}\\log \\left( {{h}_{\\theta }}\\left( {{x}^{(i)}} \\right) \\right)-\\left( 1-{{y}^{(i)}} \\right)\\log \\left( 1-{{h}_{\\theta }}\\left( {{x}^{(i)}} \\right) \\right)]}+\\frac{\\lambda }{2m}\\sum\\limits_{j=1}^{n}{\\theta _{j}^{2}}$$\n",
    "梯度下降公式如下(这是争对一个特征j的下降公式，实际使用中通过矩阵可以一次计算出所有特征下降公式)\n",
    "$$\\frac{\\partial J\\left( \\theta  \\right)}{\\partial {{\\theta }_{j}}}=\\left( \\frac{1}{m}\\sum\\limits_{i=1}^{m}{\\left( {{h}_{\\theta }}\\left( {{x}^{\\left( i \\right)}} \\right)-{{y}^{\\left( i \\right)}} \\right)} \\right)x_{_{j}}^{(i)}+\\frac{\\lambda }{m}{{\\theta }_{j}}\\text{ }\\text{             for  j}\\ge \\text{1}$$"
   ]
  },
  {
   "cell_type": "code",
   "execution_count": null,
   "metadata": {},
   "outputs": [],
   "source": [
    "def sigmoid(z):\n",
    "    return 1/(1+numpy.exp(-z))\n",
    "\n",
    "def cost(theta,x,y,Lambda=1):\n",
    "    row=x.shape[0]\n",
    "    hx=x@theta\n",
    "    return (1/row)*(((-y.T)@numpy.log(sigmoid(hx)))-(((1-y).T)@numpy.log(1-sigmoid(hx))))+(Lambda/(2*row))*(theta.T@theta)\n",
    "\n",
    "def gradientDescent(theta,x,y,Lambda=1):\n",
    "    row=x.shape[0]\n",
    "    return ((1/row)*x.T@(sigmoid(x@theta)-y)+(Lambda/row)*theta)"
   ]
  },
  {
   "cell_type": "markdown",
   "metadata": {},
   "source": [
    "有了上面的的三个公式，就可以求二分类问题了，现在将多分类问题转换成多个二分类问题就可以了\n",
    "对于识别0-9，可以变成对0与其他分类，1与其他分类等等，产生10个theta\n",
    "训练完成后，对于新的测试数据，只需要用10个测试数据计算，大于0.5的就是该数了"
   ]
  },
  {
   "cell_type": "code",
   "execution_count": null,
   "metadata": {},
   "outputs": [],
   "source": [
    "import copy\n",
    "import scipy.optimize as opt\n",
    "import matplotlib.pyplot as plt\n",
    "def one_to_all():\n",
    "    x,y,theta=getData('ex3data1.mat')\n",
    "    thetas=[]\n",
    "    for j in range(1,11):   \n",
    "        nums=copy.deepcopy(y)\n",
    "        thetaCopy=copy.deepcopy(theta)\n",
    "        nums[y==j]=1\n",
    "        nums[y!=j]=0\n",
    "        costs=[]\n",
    "        for i in range(2000):\n",
    "            costs.append(cost(thetaCopy,x,nums)[0][0])\n",
    "            thetaCopy=thetaCopy-gradientDescent(thetaCopy,x,nums)\n",
    "        thetas.append(thetaCopy)\n",
    "        print(j,end='')\n",
    "        # plt.plot(costs)\n",
    "        # plt.show()\n",
    "    numpy.save('nums',thetas)\n",
    "one_to_all()"
   ]
  },
  {
   "cell_type": "markdown",
   "metadata": {},
   "source": [
    "得到了0-9学习后的特征，将数据拿去验算，看看正确率有多少"
   ]
  },
  {
   "cell_type": "code",
   "execution_count": 5,
   "metadata": {},
   "outputs": [],
   "source": [
    "from random import randrange\n",
    "\n",
    "#太离谱了，每个下降1000，正确率0.931。下降2000后，正确率0.936\n",
    "#答案是0.9446，还差了点\n",
    "def checkRight():\n",
    "    thetas=numpy.array(numpy.load('nums.npy'))[:,:,0]\n",
    "    x,y,theta=getData('ex3data1.mat')\n",
    "    ans=numpy.argmax(x@thetas.T,axis=1)[:,numpy.newaxis]\n",
    "    rigth=0\n",
    "    for i in range(len(ans)):\n",
    "        if(ans[i]+1==y[i]):\n",
    "            rigth+=1\n",
    "return rigth/len(ans)\n",
    "    #testgithub\n",
    "checkRight()"
   ]
  }
 ],
 "metadata": {
  "kernelspec": {
   "display_name": "Python 3.9.12 64-bit",
   "language": "python",
   "name": "python3"
  },
  "language_info": {
   "codemirror_mode": {
    "name": "ipython",
    "version": 3
   },
   "file_extension": ".py",
   "mimetype": "text/x-python",
   "name": "python",
   "nbconvert_exporter": "python",
   "pygments_lexer": "ipython3",
   "version": "3.9.12"
  },
  "orig_nbformat": 4,
  "vscode": {
   "interpreter": {
    "hash": "1daca1ebfa99d363f49187de6dd878fa6001e85bc2f160c60bcd81d0df0caa1e"
   }
  }
 },
 "nbformat": 4,
 "nbformat_minor": 2
}
