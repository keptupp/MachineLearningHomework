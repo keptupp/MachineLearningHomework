{
 "cells": [
  {
   "cell_type": "markdown",
   "metadata": {},
   "source": [
    "# 偏差和方差(以单变量多项式为例)"
   ]
  },
  {
   "cell_type": "code",
   "execution_count": 9,
   "metadata": {},
   "outputs": [],
   "source": [
    "from scipy.io import loadmat\n",
    "import numpy as np"
   ]
  },
  {
   "cell_type": "code",
   "execution_count": 10,
   "metadata": {},
   "outputs": [],
   "source": [
    "#x是训练集，xval是交叉验证集（观察代价），xtest是测试集（验证拟合情况）\n",
    "def getData(n):\n",
    "    data=loadmat('ex5data1.mat')\n",
    "    xsrc=data['X'][:,0]\n",
    "    x=np.empty(shape=(xsrc.shape[0],0))\n",
    "    for i in range(n+1):\n",
    "        x=np.insert(x,i,np.power(xsrc,i),axis=1)\n",
    "    y=data['y'][:,0]\n",
    "    xtest=data['Xtest']\n",
    "    ytest=data['ytest']\n",
    "    xval=data['Xval']\n",
    "    yval=data['yval']\n",
    "    theta=np.zeros((n+1))\n",
    "    print(\"x\",x.shape)\n",
    "    print(\"xtest\",xtest.shape)\n",
    "    print(\"xval\",xval.shape)\n",
    "    return x,y,xtest,ytest,xval,yval,theta\n"
   ]
  },
  {
   "cell_type": "code",
   "execution_count": 14,
   "metadata": {},
   "outputs": [
    {
     "name": "stdout",
     "output_type": "stream",
     "text": [
      "x (12, 3)\n",
      "xtest (21, 1)\n",
      "xval (21, 1)\n",
      "[   -134.6110719    -2947.82395792 -131096.30848753]\n"
     ]
    }
   ],
   "source": [
    "def compute(x,y,theta):\n",
    "    return x@theta\n",
    "\n",
    "def cost(hx,x,y):\n",
    "    errorValue=hx-y\n",
    "    j=np.sum((errorValue[:,np.newaxis]*x),axis=0)\n",
    "    return j\n",
    "\n",
    "def test():\n",
    "    x,y,xtest,ytest,xval,yval,theta=getData(2)\n",
    "    hx=compute(x,y,theta)\n",
    "    print(cost(hx,x,y))\n",
    "test()"
   ]
  }
 ],
 "metadata": {
  "kernelspec": {
   "display_name": "Python 3.9.12 64-bit",
   "language": "python",
   "name": "python3"
  },
  "language_info": {
   "codemirror_mode": {
    "name": "ipython",
    "version": 3
   },
   "file_extension": ".py",
   "mimetype": "text/x-python",
   "name": "python",
   "nbconvert_exporter": "python",
   "pygments_lexer": "ipython3",
   "version": "3.9.12"
  },
  "orig_nbformat": 4,
  "vscode": {
   "interpreter": {
    "hash": "1daca1ebfa99d363f49187de6dd878fa6001e85bc2f160c60bcd81d0df0caa1e"
   }
  }
 },
 "nbformat": 4,
 "nbformat_minor": 2
}
